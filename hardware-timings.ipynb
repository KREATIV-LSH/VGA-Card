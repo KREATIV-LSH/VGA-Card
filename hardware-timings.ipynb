{
 "cells": [
  {
   "cell_type": "code",
   "execution_count": 4,
   "metadata": {},
   "outputs": [
    {
     "name": "stdout",
     "output_type": "stream",
     "text": [
      "active_pixels\n",
      "   JIHGFEDCBA\n",
      " 0b1100100000 3\n",
      "\n",
      "front_porch\n",
      "  JIHGFEDCBA\n",
      "0b1101001000 4\n",
      "\n",
      "sync_width\n",
      "  JIHGFEDCBA\n",
      "0b1111001000 5\n",
      "\n",
      "back_porch\n",
      "  KJIHGFEDCBA\n",
      "0b10000100000 2\n"
     ]
    }
   ],
   "source": [
    "# Horizontal sections\n",
    "active_pixels = 800\n",
    "front_porch = 40\n",
    "sync_width = 128\n",
    "back_porch = 88\n",
    "\n",
    "# print(active_pixels + front_porch + sync_width + back_porch)\n",
    "\n",
    "print(\"active_pixels\")\n",
    "print(\"  JIHGFEDCBA\")\n",
    "print(bin(active_pixels), bin(active_pixels).count(\"1\"))\n",
    "print()\n",
    "print(\"front_porch\")\n",
    "print(\"  JIHGFEDCBA\")\n",
    "print(bin(active_pixels + front_porch), bin(active_pixels + front_porch).count(\"1\"))\n",
    "print()\n",
    "print(\"sync_width\")\n",
    "print(\"  JIHGFEDCBA\")\n",
    "print(bin(active_pixels + front_porch + sync_width), bin(active_pixels + front_porch + sync_width).count(\"1\"))\n",
    "print()\n",
    "print(\"back_porch\")\n",
    "print(\"  KJIHGFEDCBA\")\n",
    "print(bin(active_pixels + front_porch + sync_width + back_porch), bin(active_pixels + front_porch + sync_width + back_porch).count(\"1\"))\n",
    "\n"
   ]
  },
  {
   "cell_type": "code",
   "execution_count": 1,
   "metadata": {},
   "outputs": [
    {
     "name": "stdout",
     "output_type": "stream",
     "text": [
      "active_lines\n",
      "  JIHGFEDCBA\n",
      "0b1001011000 4\n",
      "\n",
      "front_porch\n",
      "  JIHGFEDCBA\n",
      "0b1001011001 5\n",
      "\n",
      "sync_width\n",
      "  JIHGFEDCBA\n",
      "0b1001011101 6\n",
      "\n",
      "back_porch\n",
      "  JIHGFEDCBA\n",
      "0b1001110100 5\n"
     ]
    }
   ],
   "source": [
    "#Vertical Sections\n",
    "active_lines = 600\n",
    "front_porch = 1\n",
    "sync_width = 4\n",
    "back_porch = 23\n",
    "\n",
    "#print(active_lines + front_porch + sync_width + back_porch)\n",
    "\n",
    "print(\"active_lines\")\n",
    "print(\"  JIHGFEDCBA\")\n",
    "print(bin(active_lines), bin(active_lines).count(\"1\"))\n",
    "print()\n",
    "print(\"front_porch\")\n",
    "print(\"  JIHGFEDCBA\")\n",
    "print(bin(active_lines + front_porch), bin(active_lines + front_porch).count(\"1\"))\n",
    "print()\n",
    "print(\"sync_width\")\n",
    "print(\"  JIHGFEDCBA\")\n",
    "print(bin(active_lines + front_porch + sync_width), bin(active_lines + front_porch + sync_width).count(\"1\"))\n",
    "print()\n",
    "print(\"back_porch\")\n",
    "print(\"  JIHGFEDCBA\")\n",
    "print(bin(active_lines + front_porch + sync_width + back_porch), bin(active_lines + front_porch + sync_width + back_porch).count(\"1\"))"
   ]
  }
 ],
 "metadata": {
  "kernelspec": {
   "display_name": "Python 3",
   "language": "python",
   "name": "python3"
  },
  "language_info": {
   "codemirror_mode": {
    "name": "ipython",
    "version": 3
   },
   "file_extension": ".py",
   "mimetype": "text/x-python",
   "name": "python",
   "nbconvert_exporter": "python",
   "pygments_lexer": "ipython3",
   "version": "3.10.6"
  },
  "orig_nbformat": 4,
  "vscode": {
   "interpreter": {
    "hash": "31f2aee4e71d21fbe5cf8b01ff0e069b9275f58929596ceb00d14d90e3e16cd6"
   }
  }
 },
 "nbformat": 4,
 "nbformat_minor": 2
}
